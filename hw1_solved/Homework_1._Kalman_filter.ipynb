{
 "cells": [
  {
   "cell_type": "markdown",
   "metadata": {},
   "source": [
    "# Home assignment #1. Kalman Filter"
   ]
  },
  {
   "cell_type": "markdown",
   "metadata": {},
   "source": [
    "Imagine a robot. Robot state is described with the following parameters\n",
    "\n",
    "1. $x$, $y$ - robot coordinates,\n",
    "2. $V_x$, $V_y$ - velocities.\n",
    "\n",
    "We can only measure the coordinates of the robot, which should be reflected in the $ H $ matrix.\n",
    "\n",
    "In this homework assignment:\n",
    "- Fill in the matrices for the Kalman filter correctly.\n",
    "- For all three experiments, visualize the dependence of $ x $, $ y $, $ V_x $, $ V_y $ over time.\n",
    "- For all three experiments, visualize the dependence of each component of the gain matrix ($ K $) over time.\n",
    "     - What does the dynamics of changes in its components say?\n",
    "- How much does the velocity uncertainty decrease as a result of each experiment?"
   ]
  },
  {
   "cell_type": "code",
   "execution_count": 1,
   "metadata": {},
   "outputs": [],
   "source": [
    "import numpy as np\n",
    "\n",
    "k = list()\n",
    "X = []\n",
    "\n",
    "########################################\n",
    "\n",
    "def filter(x, E):\n",
    "    for n in range(len(measurements)):\n",
    "        # prediction\n",
    "        x = (F * x) + u ## Предиктим следующее положение \n",
    "        E = F * E * F.transpose() ## Находим распределение предсказанного положения\n",
    "\n",
    "        # measurement update\n",
    "        Z = np.matrix([measurements[n]]) ## принимаем измерения\n",
    "        S = H * E * H.transpose() + R ## распредление на основе данных измерения\n",
    "        K = E * H.transpose() * np.linalg.inv(S) ## kalman gain\n",
    "    \n",
    "        k.append(K)\n",
    "        x = x + (K * (Z.transpose() - (H * x)))\n",
    "        E = (I - (K * H)) * E\n",
    "        \n",
    "        X.append(x)\n",
    "        \n",
    "        # print('x= ')\n",
    "        # print(x)\n",
    "        # print('E= ')\n",
    "        # print(E)\n",
    "########################################"
   ]
  },
  {
   "cell_type": "code",
   "execution_count": 2,
   "metadata": {},
   "outputs": [],
   "source": [
    "dt = 0.1\n",
    "\n",
    "s_x = 0\n",
    "s_y = 0\n",
    "s_Vx = 1000\n",
    "s_Vy = 1\n",
    "\n",
    "# E = # initial covariance matrix: 0. for positions x and y, 1000 for the two velocities\n",
    "E = np.matrix([[1, 0, 0, 0],\n",
    "         [0, 1, 0, 0],\n",
    "         [0, 0, 1, 1000],\n",
    "         [0, 0, 1000, 1]])\n",
    "\n",
    "# F = # next state function: 4D\n",
    "F = np.matrix([[1, 0, dt, 0],\n",
    "             [0, 1, 0, dt],\n",
    "             [0, 0, 1, 0],\n",
    "             [0, 0, 0, 1]])\n",
    "\n",
    "\n",
    "# H = # measurement function: reflect the fact that we observe x and y but not the two velocities\n",
    "H = np.matrix([[1, 0, 0, 0],\n",
    "             [0, 1, 0, 0]])\n",
    "\n",
    "# R = # measurement uncertainty: use 2x2 matrix with 0.1 as main diagonal\n",
    "R = np.matrix([[0.1, 0],\n",
    "             [0, 0.1]])\n",
    "\n",
    "# I = # 4D identity matrix\n",
    "I = np.eye(4)"
   ]
  },
  {
   "cell_type": "code",
   "execution_count": 3,
   "metadata": {},
   "outputs": [
    {
     "name": "stdout",
     "output_type": "stream",
     "text": [
      "### First Experiment ###\n"
     ]
    }
   ],
   "source": [
    "print(\"### First Experiment ###\")\n",
    "measurements = [[5., 10.], [6., 8.], [7., 6.], [8., 4.], [9., 2.], [10., 0.]]\n",
    "initial_xy = [4., 12.]\n",
    "\n",
    "\n",
    "x = np.matrix([[initial_xy[0]], [initial_xy[1]], [0.], [0.]]) # initial robot state (location and velocity)\n",
    "u = np.matrix([[0.], [0.1], [0.], [0.]]) # external motion applied to the robot"
   ]
  },
  {
   "cell_type": "code",
   "execution_count": 4,
   "metadata": {},
   "outputs": [],
   "source": [
    "filter(x, E)"
   ]
  },
  {
   "cell_type": "code",
   "execution_count": 5,
   "metadata": {},
   "outputs": [],
   "source": [
    "import matplotlib.pyplot as plt"
   ]
  },
  {
   "cell_type": "code",
   "execution_count": 6,
   "metadata": {},
   "outputs": [],
   "source": [
    "X_array = np.array(X)"
   ]
  },
  {
   "cell_type": "code",
   "execution_count": 7,
   "metadata": {},
   "outputs": [
    {
     "data": {
      "text/plain": [
       "array([[ 5.02238582],\n",
       "       [ 6.01692381],\n",
       "       [ 7.00938826],\n",
       "       [ 8.00585127],\n",
       "       [ 9.00397662],\n",
       "       [10.00287327]])"
      ]
     },
     "execution_count": 7,
     "metadata": {},
     "output_type": "execute_result"
    }
   ],
   "source": [
    "X_array[:,0]"
   ]
  },
  {
   "cell_type": "code",
   "execution_count": 8,
   "metadata": {},
   "outputs": [
    {
     "data": {
      "text/plain": [
       "array([[ 9.98751517e+00],\n",
       "       [ 7.99174614e+00],\n",
       "       [ 5.99549182e+00],\n",
       "       [ 3.99720111e+00],\n",
       "       [ 1.99810048e+00],\n",
       "       [-1.37163111e-03]])"
      ]
     },
     "execution_count": 8,
     "metadata": {},
     "output_type": "execute_result"
    }
   ],
   "source": [
    "X_array[:,1]"
   ]
  },
  {
   "cell_type": "markdown",
   "metadata": {},
   "source": [
    "Visualize the dependence of $ x $, $ y $, $ V_x $, $ V_y $ over time"
   ]
  },
  {
   "cell_type": "code",
   "execution_count": 9,
   "metadata": {},
   "outputs": [
    {
     "data": {
      "image/png": "[encoded data removed]",
      "text/plain": [
       "<Figure size 432x288 with 1 Axes>"
      ]
     },
     "metadata": {
      "needs_background": "light"
     },
     "output_type": "display_data"
    }
   ],
   "source": [
    "plt.plot(X_array[:,0])\n",
    "plt.plot(X_array[:,1])\n",
    "plt.plot(X_array[:,2])\n",
    "plt.plot(X_array[:,3])\n",
    "\n",
    "plt.legend([\"x\",\"y\",\"Vx\", \"Vy\"])\n",
    "plt.show()"
   ]
  },
  {
   "cell_type": "markdown",
   "metadata": {},
   "source": [
    "Visualize the components of the $ K $ matrix below"
   ]
  },
  {
   "cell_type": "code",
   "execution_count": 13,
   "metadata": {},
   "outputs": [],
   "source": [
    "k_array = np.array(k)"
   ]
  },
  {
   "cell_type": "code",
   "execution_count": 25,
   "metadata": {},
   "outputs": [
    {
     "data": {
      "image/png": "[encoded data removed]",
      "text/plain": [
       "<Figure size 432x288 with 1 Axes>"
      ]
     },
     "metadata": {
      "needs_background": "light"
     },
     "output_type": "display_data"
    },
    {
     "data": {
      "image/png": "[encoded data removed]",
      "text/plain": [
       "<Figure size 432x288 with 1 Axes>"
      ]
     },
     "metadata": {
      "needs_background": "light"
     },
     "output_type": "display_data"
    },
    {
     "data": {
      "image/png": "[encoded data removed]",
      "text/plain": [
       "<Figure size 432x288 with 1 Axes>"
      ]
     },
     "metadata": {
      "needs_background": "light"
     },
     "output_type": "display_data"
    },
    {
     "data": {
      "image/png": "[encoded data removed]",
      "text/plain": [
       "<Figure size 432x288 with 1 Axes>"
      ]
     },
     "metadata": {
      "needs_background": "light"
     },
     "output_type": "display_data"
    }
   ],
   "source": [
    "plt.plot(k_array[:,0,0])\n",
    "plt.plot(k_array[:,0,1])\n",
    "plt.legend([\"x dx\",\"x dy\"])\n",
    "plt.show()\n",
    "\n",
    "plt.plot(k_array[:,1,0])\n",
    "plt.plot(k_array[:,1,1])\n",
    "plt.legend([\"y dx\",\"y dy\"])\n",
    "plt.show()\n",
    "\n",
    "plt.plot(k_array[:,2,0])\n",
    "plt.plot(k_array[:,2,1])\n",
    "plt.legend([\"Vx dx\",\"Vx dy\"])\n",
    "plt.show()\n",
    "\n",
    "plt.plot(k_array[:,3,0])\n",
    "plt.plot(k_array[:,3,1])\n",
    "plt.legend([\"Vy dx\",\"Vy dy\"])\n",
    "plt.show()"
   ]
  },
  {
   "cell_type": "code",
   "execution_count": null,
   "metadata": {},
   "outputs": [],
   "source": [
    "print(\"### Second Experiment ###\")\n",
    "measurements = [[1., 4.], [6., 0.], [11., -4.], [16., -8.]]\n",
    "initial_xy = [-4., 8.]\n",
    "\n",
    "dt = 0.1\n",
    "\n",
    "x = np.matrix([[initial_xy[0]], [initial_xy[1]], [0.], [0.]]) # initial robot state (location and velocity)\n",
    "u = np.matrix([[0.], [0.1], [0.], [0.]]) # external motion applied to the robot"
   ]
  },
  {
   "cell_type": "code",
   "execution_count": null,
   "metadata": {},
   "outputs": [],
   "source": [
    "filter(x, E)"
   ]
  },
  {
   "cell_type": "markdown",
   "metadata": {},
   "source": [
    "Visualize the dependence of $ x $, $ y $, $ V_x $, $ V_y $ over time"
   ]
  },
  {
   "cell_type": "markdown",
   "metadata": {},
   "source": [
    "Visualize the components of the $ K $ matrix below"
   ]
  },
  {
   "cell_type": "code",
   "execution_count": null,
   "metadata": {},
   "outputs": [],
   "source": []
  },
  {
   "cell_type": "code",
   "execution_count": null,
   "metadata": {},
   "outputs": [],
   "source": [
    "print(\"### Third Experiment ###\")\n",
    "measurements = [[1., 17.], [1., 15.], [1., 13.], [1., 11.]]\n",
    "initial_xy = [1., 19.]\n",
    "\n",
    "dt = 0.1\n",
    "\n",
    "x = np.matrix([[initial_xy[0]], [initial_xy[1]], [0.], [0.]]) # initial robot state (location and velocity)\n",
    "u = np.matrix([[0.], [0.1], [0.], [0.]]) # external motion applied to the robot"
   ]
  },
  {
   "cell_type": "code",
   "execution_count": null,
   "metadata": {},
   "outputs": [],
   "source": [
    "filter(x, E)"
   ]
  },
  {
   "cell_type": "markdown",
   "metadata": {},
   "source": [
    "Visualize the dependence of $ x $, $ y $, $ V_x $, $ V_y $ over time"
   ]
  },
  {
   "cell_type": "code",
   "execution_count": null,
   "metadata": {},
   "outputs": [],
   "source": []
  },
  {
   "cell_type": "markdown",
   "metadata": {},
   "source": [
    "Visualize the components of the $ K $ matrix below"
   ]
  },
  {
   "cell_type": "code",
   "execution_count": null,
   "metadata": {},
   "outputs": [],
   "source": []
  },
  {
   "cell_type": "markdown",
   "metadata": {},
   "source": [
    "#### Some space for debugging :) "
   ]
  },
  {
   "cell_type": "code",
   "execution_count": 6,
   "metadata": {},
   "outputs": [
    {
     "data": {
      "text/plain": [
       "array([[1, 2],\n",
       "       [3, 4]])"
      ]
     },
     "execution_count": 6,
     "metadata": {},
     "output_type": "execute_result"
    }
   ],
   "source": [
    "A = np.array([[1,2],[3,4]])\n",
    "A"
   ]
  },
  {
   "cell_type": "code",
   "execution_count": 8,
   "metadata": {},
   "outputs": [
    {
     "data": {
      "text/plain": [
       "array([[1, 3],\n",
       "       [2, 4]])"
      ]
     },
     "execution_count": 8,
     "metadata": {},
     "output_type": "execute_result"
    }
   ],
   "source": [
    "A_T = A.T\n",
    "A_T"
   ]
  },
  {
   "cell_type": "code",
   "execution_count": 9,
   "metadata": {},
   "outputs": [
    {
     "data": {
      "text/plain": [
       "array([[ 5, 11],\n",
       "       [11, 25]])"
      ]
     },
     "execution_count": 9,
     "metadata": {},
     "output_type": "execute_result"
    }
   ],
   "source": [
    "A@A_T"
   ]
  }
 ],
 "metadata": {
  "kernelspec": {
   "display_name": "Python 3 (ipykernel)",
   "language": "python",
   "name": "python3"
  },
  "language_info": {
   "codemirror_mode": {
    "name": "ipython",
    "version": 3
   },
   "file_extension": ".py",
   "mimetype": "text/x-python",
   "name": "python",
   "nbconvert_exporter": "python",
   "pygments_lexer": "ipython3",
   "version": "3.9.7"
  }
 },
 "nbformat": 4,
 "nbformat_minor": 4
}
